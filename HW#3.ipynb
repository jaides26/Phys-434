{
 "cells": [
  {
   "cell_type": "markdown",
   "id": "be673cc9-521e-4b30-92f6-415cc11bdab9",
   "metadata": {},
   "source": [
    "# HW#3"
   ]
  },
  {
   "cell_type": "code",
   "execution_count": 12,
   "id": "bc1aeea3-5c65-4320-8506-0eb0816ebc4b",
   "metadata": {},
   "outputs": [],
   "source": [
    "import numpy as np\n",
    "import matplotlib\n",
    "import matplotlib.pyplot as plt\n",
    "import scipy\n",
    "from scipy import stats\n",
    "from scipy import signal\n",
    "import pandas as pd"
   ]
  },
  {
   "cell_type": "markdown",
   "id": "469789dd-7c68-4948-8a9b-5c1b4a08948d",
   "metadata": {},
   "source": [
    "# Problem 1"
   ]
  },
  {
   "cell_type": "markdown",
   "id": "fbbca51f-8c94-461c-a845-ce5c3fafdc7f",
   "metadata": {},
   "source": [
    "The first algorithm makes fewer mistakes with only 8 miscategorizations but the new algorithm is better for the zoo as it has less miscategorizations regarding birds which results in less consequences regarding that mistake."
   ]
  },
  {
   "cell_type": "code",
   "execution_count": 10,
   "id": "11cb4b36-6f7b-4091-aa12-c68c0cabbff6",
   "metadata": {},
   "outputs": [],
   "source": [
    "data = {'True Bird': [50,49],\n",
    "        'True Person': [0,1]\n",
    "        }"
   ]
  },
  {
   "cell_type": "code",
   "execution_count": 13,
   "id": "39109d2a-cb07-4d07-834e-18bb17de965a",
   "metadata": {},
   "outputs": [
    {
     "name": "stdout",
     "output_type": "stream",
     "text": [
      "           True Bird  True Person\n",
      "NN Bird           50            0\n",
      "NN Person         49            1\n"
     ]
    }
   ],
   "source": [
    "df = pd.DataFrame(data, index=['NN Bird','NN Person'])\n",
    "\n",
    "print (df)"
   ]
  },
  {
   "cell_type": "code",
   "execution_count": 14,
   "id": "10e5c0ac-3785-4017-89dd-d89a1cbb297c",
   "metadata": {},
   "outputs": [],
   "source": [
    "data_new= {'True Bird': [57,42],\n",
    "        'True Person': [0,1]\n",
    "        }"
   ]
  },
  {
   "cell_type": "code",
   "execution_count": 16,
   "id": "09c79d80-9687-4b2d-be4d-52b574c06133",
   "metadata": {},
   "outputs": [
    {
     "name": "stdout",
     "output_type": "stream",
     "text": [
      "           True Bird  True Person\n",
      "NA Bird           57            0\n",
      "NA Person         42            1\n"
     ]
    }
   ],
   "source": [
    "df_new = pd.DataFrame(data_new, index=['NA Bird','NA Person'])\n",
    "\n",
    "print (df_new)"
   ]
  },
  {
   "cell_type": "markdown",
   "id": "9f79d5ec-157b-48c6-923b-25652972f9b7",
   "metadata": {},
   "source": [
    "# Problem 2"
   ]
  },
  {
   "cell_type": "markdown",
   "id": "60cb8f3e-3f3e-4eb6-85f1-805cc2b63a85",
   "metadata": {},
   "source": [
    "## 2a) Summing two identical exponential functions results in an Erlang $(2,\\lambda)$ distribution. "
   ]
  },
  {
   "cell_type": "code",
   "execution_count": 4,
   "id": "7947a225-eedb-4f7b-a674-90b38e5935b4",
   "metadata": {},
   "outputs": [],
   "source": [
    "x=np.linspace(0,10,100)"
   ]
  },
  {
   "cell_type": "code",
   "execution_count": 5,
   "id": "c123e5a3-b326-4716-bd9c-93a0c25f7222",
   "metadata": {},
   "outputs": [
    {
     "data": {
      "image/png": "[encoded data removed]",
      "text/plain": [
       "<Figure size 432x288 with 1 Axes>"
      ]
     },
     "metadata": {
      "needs_background": "light"
     },
     "output_type": "display_data"
    }
   ],
   "source": [
    "fig, ax = plt.subplots(1, 1)\n",
    "ax.plot(x,stats.erlang.pdf(x,2))\n",
    "plt.show()"
   ]
  },
  {
   "cell_type": "markdown",
   "id": "c30ecb62-6b80-4eb8-b974-231d5e211656",
   "metadata": {},
   "source": [
    "## 2b) The pdf ratio of two zero-mean unity variance normal distributions results in a cauchy distribution. "
   ]
  },
  {
   "cell_type": "code",
   "execution_count": 6,
   "id": "8113a0dd-d4fe-4da8-aff2-932dda0e0be9",
   "metadata": {},
   "outputs": [],
   "source": [
    "x_c= np.linspace(-10,10,100)"
   ]
  },
  {
   "cell_type": "code",
   "execution_count": 9,
   "id": "c668c49b-4282-4da8-9d79-852f04e3632e",
   "metadata": {},
   "outputs": [
    {
     "data": {
      "image/png": "[encoded data removed]",
      "text/plain": [
       "<Figure size 432x288 with 1 Axes>"
      ]
     },
     "metadata": {
      "needs_background": "light"
     },
     "output_type": "display_data"
    }
   ],
   "source": [
    "fig, ax = plt.subplots(1, 1)\n",
    "ax.plot(x_c,stats.cauchy.pdf(x_c))\n",
    "plt.show()"
   ]
  },
  {
   "cell_type": "markdown",
   "id": "d6691eb6-98b9-496f-a9fc-e6962e7f24ba",
   "metadata": {},
   "source": [
    "## 2c) "
   ]
  },
  {
   "cell_type": "markdown",
   "id": "5cb619e9-fd09-4b7d-b8eb-ccf6c700518d",
   "metadata": {},
   "source": [
    "The amplitude of a vector correspnds to the angle of that vector so for 2d gaussian vector Xi+Yj the formula to determine the amplitude is:\n",
    "\n",
    "$$ \n",
    "\\theta= tan^-1\\frac{X}{Y}\n",
    "$$\n",
    "\n",
    "So from this formula we can see the amplitude would return a prf that is ratio of the of the values for the 2d gaussian function. "
   ]
  },
  {
   "cell_type": "code",
   "execution_count": null,
   "id": "c8e8dde8-de8a-40e8-9987-9e5840444948",
   "metadata": {},
   "outputs": [],
   "source": []
  }
 ],
 "metadata": {
  "kernelspec": {
   "display_name": "Python 3",
   "language": "python",
   "name": "python3"
  },
  "language_info": {
   "codemirror_mode": {
    "name": "ipython",
    "version": 3
   },
   "file_extension": ".py",
   "mimetype": "text/x-python",
   "name": "python",
   "nbconvert_exporter": "python",
   "pygments_lexer": "ipython3",
   "version": "3.8.8"
  }
 },
 "nbformat": 4,
 "nbformat_minor": 5
}
