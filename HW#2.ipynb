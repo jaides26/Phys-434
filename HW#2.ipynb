{
 "cells": [
  {
   "cell_type": "code",
   "execution_count": 1,
   "id": "05c3782e-5bd7-4aa9-991e-ac82f59c7fab",
   "metadata": {},
   "outputs": [],
   "source": [
    "import numpy as np\n",
    "import matplotlib\n",
    "import matplotlib.pyplot as plt\n",
    "import scipy\n",
    "from scipy import stats\n",
    "from scipy import signal"
   ]
  },
  {
   "cell_type": "markdown",
   "id": "e36f7d85-b321-452d-bd74-1ee253ce8c98",
   "metadata": {},
   "source": [
    "## Problem 1"
   ]
  },
  {
   "cell_type": "code",
   "execution_count": 2,
   "id": "6de72e25-63e4-460e-899a-69ef6fb35f34",
   "metadata": {},
   "outputs": [
    {
     "data": {
      "text/plain": [
       "(0.027777777777777776, 0.16666666666666666)"
      ]
     },
     "execution_count": 2,
     "metadata": {},
     "output_type": "execute_result"
    }
   ],
   "source": [
    "snake_eyes= (1/6)*(1/6)\n",
    "sevens= 6*(1/6*1/6)\n",
    "snake_eyes, sevens"
   ]
  },
  {
   "cell_type": "markdown",
   "id": "e8caf1f2-a367-4d99-bc7f-f8bd4546a32e",
   "metadata": {},
   "source": [
    "Rolling sevens is more probable since there are more combinations of numbers that haveva 1/36 chance of happening"
   ]
  },
  {
   "cell_type": "code",
   "execution_count": 3,
   "id": "b3c099c2-6672-4036-9c7d-d36fcbe98b31",
   "metadata": {},
   "outputs": [
    {
     "data": {
      "text/plain": [
       "0.16666666666666666"
      ]
     },
     "execution_count": 3,
     "metadata": {},
     "output_type": "execute_result"
    }
   ],
   "source": [
    "snake_eyes/sevens"
   ]
  },
  {
   "cell_type": "markdown",
   "id": "7aaf2f92-69b3-4043-a97f-915970b79e2c",
   "metadata": {},
   "source": [
    "## Problem 2"
   ]
  },
  {
   "cell_type": "code",
   "execution_count": 4,
   "id": "bb7acb3b-db9b-40c7-b03a-d467be196fdb",
   "metadata": {},
   "outputs": [],
   "source": [
    "die_1= [1,2,3,4,5,6]\n",
    "die_2=[1,2,3,4,5,6]"
   ]
  },
  {
   "cell_type": "code",
   "execution_count": 5,
   "id": "a9138b61-093a-47ad-89b4-2d1677f1d67a",
   "metadata": {},
   "outputs": [
    {
     "name": "stdout",
     "output_type": "stream",
     "text": [
      "        1       2       3       4       5       6\n",
      "1  (1, 1)  (1, 2)  (1, 3)  (1, 4)  (1, 5)  (1, 6)\n",
      "2  (2, 1)  (2, 2)  (2, 3)  (2, 4)  (2, 5)  (2, 6)\n",
      "3  (3, 1)  (3, 2)  (3, 3)  (3, 4)  (3, 5)  (3, 6)\n",
      "4  (4, 1)  (4, 2)  (4, 3)  (4, 4)  (4, 5)  (4, 6)\n",
      "5  (5, 1)  (5, 2)  (5, 3)  (5, 4)  (5, 5)  (5, 6)\n",
      "6  (6, 1)  (6, 2)  (6, 3)  (6, 4)  (6, 5)  (6, 6)\n"
     ]
    }
   ],
   "source": [
    "import pandas as pd\n",
    "\n",
    "data = {'1': [(1,1),(2,1), (3,1),(4,1), (5,1), (6,1)],\n",
    "        '2': [(1,2), (2,2), (3,2),(4,2), (5,2),(6,2)],\n",
    "        '3': [(1,3), (2,3),(3,3), (4,3),(5,3),(6,3)],\n",
    "        '4': [(1,4),(2,4),(3,4),(4,4),(5,4), (6,4)],\n",
    "        '5': [(1,5),(2,5),(3,5),(4,5),(5,5),(6,5)],\n",
    "        '6': [(1,6),(2,6),(3,6),(4,6),(5,6),(6,6)]\n",
    "        }\n",
    "\n",
    "df = pd.DataFrame(data, index=['1','2','3','4','5', '6'])\n",
    "\n",
    "print (df)"
   ]
  },
  {
   "cell_type": "code",
   "execution_count": 6,
   "id": "6ad47aa2-be5b-4043-bcb6-e38d10e042a8",
   "metadata": {},
   "outputs": [
    {
     "name": "stdout",
     "output_type": "stream",
     "text": [
      "   number rolled probability\n",
      "0              2        1/36\n",
      "1              3        2/36\n",
      "2              4        3/36\n",
      "3              5        4/36\n",
      "4              6        5/36\n",
      "5              7        6/36\n",
      "6              8        5/36\n",
      "7              9        4/36\n",
      "8             10        3/36\n",
      "9             11        2/36\n",
      "10            12        1/36\n"
     ]
    }
   ],
   "source": [
    "prob = {'number rolled': ['2', '3', '4', '5', '6', '7', '8', '9', '10', '11', '12'],\n",
    "        'probability': ['1/36', '2/36', '3/36', '4/36', '5/36', '6/36', '5/36', '4/36', '3/36', '2/36', '1/36']\n",
    "        }\n",
    "df_prob = pd.DataFrame(prob)\n",
    "print (df_prob)"
   ]
  },
  {
   "cell_type": "code",
   "execution_count": 7,
   "id": "af8796b7-755c-44a2-b98e-807208000171",
   "metadata": {},
   "outputs": [
    {
     "data": {
      "text/plain": [
       "array([0.02777778, 0.05555556, 0.08333333, 0.11111111, 0.13888889,\n",
       "       0.16666667, 0.13888889, 0.11111111, 0.08333333, 0.05555556,\n",
       "       0.02777778])"
      ]
     },
     "execution_count": 7,
     "metadata": {},
     "output_type": "execute_result"
    }
   ],
   "source": [
    "index=[1/6,1/6,1/6,1/6,1/6,1/6]\n",
    "two_dice=np.convolve(index,index)\n",
    "two_dice"
   ]
  },
  {
   "cell_type": "code",
   "execution_count": 8,
   "id": "3244041b-02c8-4ddc-9e9b-208691345bae",
   "metadata": {},
   "outputs": [
    {
     "data": {
      "text/plain": [
       "[<matplotlib.lines.Line2D at 0x7f1231e63fa0>]"
      ]
     },
     "execution_count": 8,
     "metadata": {},
     "output_type": "execute_result"
    },
    {
     "data": {
      "image/png": "[encoded data removed]",
      "text/plain": [
       "<Figure size 432x288 with 1 Axes>"
      ]
     },
     "metadata": {
      "needs_background": "light"
     },
     "output_type": "display_data"
    }
   ],
   "source": [
    "bins= np.arange(2,13)\n",
    "plt.xlim(0,14)\n",
    "plt.plot(bins, two_dice)"
   ]
  },
  {
   "cell_type": "code",
   "execution_count": 9,
   "id": "83d2b9bf-f355-40bf-9ae7-4db0f435eef3",
   "metadata": {},
   "outputs": [
    {
     "data": {
      "text/plain": [
       "0.12878787878787878"
      ]
     },
     "execution_count": 9,
     "metadata": {},
     "output_type": "execute_result"
    }
   ],
   "source": [
    "mean= np.mean(index)+np.mean(two_dice)\n",
    "mean/2"
   ]
  },
  {
   "cell_type": "code",
   "execution_count": 10,
   "id": "6c22b855-d579-4513-b784-19e50034ea22",
   "metadata": {},
   "outputs": [
    {
     "data": {
      "text/plain": [
       "0.0019768390980512197"
      ]
     },
     "execution_count": 10,
     "metadata": {},
     "output_type": "execute_result"
    }
   ],
   "source": [
    "variance= np.var(index)+np.var(two_dice)\n",
    "variance"
   ]
  },
  {
   "cell_type": "markdown",
   "id": "8e5b316c-2fbb-4368-ab93-0dd0ebebd6fd",
   "metadata": {},
   "source": [
    "## Problem 3"
   ]
  },
  {
   "cell_type": "code",
   "execution_count": 11,
   "id": "f4a0c2c7-d28e-4616-9291-de7bbe0b59b6",
   "metadata": {},
   "outputs": [
    {
     "name": "stdout",
     "output_type": "stream",
     "text": [
      "[0.02777778 0.05555556 0.08333333 0.11111111 0.13888889 0.16666667\n",
      " 0.13888889 0.11111111 0.08333333 0.05555556 0.02777778]\n",
      "[2.75636195e-09 3.03199814e-08 1.81919889e-07 7.88319517e-07\n",
      " 2.75911831e-06 8.27735493e-06 2.20426265e-05 5.32722074e-05\n",
      " 1.18611767e-04 2.45955689e-04 4.78904107e-04 8.81162057e-04\n",
      " 1.53973962e-03 2.56546459e-03 4.08919526e-03 6.25234401e-03\n",
      " 9.19101725e-03 1.30143669e-02 1.77793036e-02 2.34652097e-02\n",
      " 2.99533825e-02 3.70163009e-02 4.43211149e-02 5.14496733e-02\n",
      " 5.79345109e-02 6.33070903e-02 6.71518156e-02 6.91574824e-02\n",
      " 6.91574824e-02 6.71518156e-02 6.33070903e-02 5.79345109e-02\n",
      " 5.14496733e-02 4.43211149e-02 3.70163009e-02 2.99533825e-02\n",
      " 2.34652097e-02 1.77793036e-02 1.30143669e-02 9.19101725e-03\n",
      " 6.25234401e-03 4.08919526e-03 2.56546459e-03 1.53973962e-03\n",
      " 8.81162057e-04 4.78904107e-04 2.45955689e-04 1.18611767e-04\n",
      " 5.32722074e-05 2.20426265e-05 8.27735493e-06 2.75911831e-06\n",
      " 7.88319517e-07 1.81919889e-07 3.03199814e-08 2.75636195e-09]\n"
     ]
    }
   ],
   "source": [
    "\n",
    "for i in range(1):\n",
    "    index=[1/6,1/6,1/6,1/6,1/6,1/6]\n",
    "    conv= np.convolve(index,index)\n",
    "    print(conv)\n",
    "    for j in range(9):\n",
    "        conv=np.convolve(conv,index)\n",
    "    print(conv)\n",
    "    "
   ]
  },
  {
   "cell_type": "code",
   "execution_count": 12,
   "id": "6c2ad47b-2df2-45ad-9384-2ccc64c2ea7b",
   "metadata": {},
   "outputs": [
    {
     "data": {
      "image/png": "[encoded data removed]",
      "text/plain": [
       "<Figure size 432x288 with 1 Axes>"
      ]
     },
     "metadata": {
      "needs_background": "light"
     },
     "output_type": "display_data"
    }
   ],
   "source": [
    "plt.xlim(0,6)\n",
    "x= np.arange(0,56)\n",
    "plt.plot(x/10, conv);"
   ]
  },
  {
   "cell_type": "code",
   "execution_count": 13,
   "id": "d3f9fdbc-ebbd-47b4-9d41-f1d1d75c9d3e",
   "metadata": {},
   "outputs": [
    {
     "data": {
      "image/png": "[encoded data removed]",
      "text/plain": [
       "<Figure size 432x288 with 1 Axes>"
      ]
     },
     "metadata": {
      "needs_background": "light"
     },
     "output_type": "display_data"
    }
   ],
   "source": [
    "plt.xlim(0,6)\n",
    "plt.yscale('log')\n",
    "x= np.arange(0,56)\n",
    "plt.plot(x/10, conv);"
   ]
  },
  {
   "cell_type": "markdown",
   "id": "d272c60f-bc9a-4333-b4d5-6b5f2928407e",
   "metadata": {},
   "source": [
    "Convolving these functions for the six sided dice 10 times does produce nearly a Gaussian function. This is seen both in its original plotted form and by taking the logarithm which follows the expected parabolic shape of a gaussian. This is consistent with the central limit theorem which states most distributions when summed and averaged enough times converge to a Gaussian distribution. "
   ]
  },
  {
   "cell_type": "markdown",
   "id": "3007c37c-1653-4591-82c8-3c4ed90a89e5",
   "metadata": {},
   "source": [
    "## Problem 4"
   ]
  },
  {
   "cell_type": "code",
   "execution_count": 14,
   "id": "d58f75ba-8f40-4833-8478-cc9434028f6a",
   "metadata": {},
   "outputs": [
    {
     "data": {
      "image/png": "[encoded data removed]",
      "text/plain": [
       "<Figure size 432x288 with 1 Axes>"
      ]
     },
     "metadata": {
      "needs_background": "light"
     },
     "output_type": "display_data"
    }
   ],
   "source": [
    "x= np.linspace(-10,10,100)\n",
    "fig, ax = plt.subplots(1, 1)\n",
    "plt.tick_params(labelsize = 24)\n",
    "ax.plot(x,stats.norm.pdf(x),linewidth = 8,alpha = 0.7)\n",
    "plt.show()"
   ]
  },
  {
   "cell_type": "code",
   "execution_count": 34,
   "id": "6b849c03-320f-46e0-9315-71139b9f71d2",
   "metadata": {},
   "outputs": [
    {
     "data": {
      "text/plain": [
       "0.10730070919060587"
      ]
     },
     "execution_count": 34,
     "metadata": {},
     "output_type": "execute_result"
    }
   ],
   "source": [
    "norm.std()"
   ]
  },
  {
   "cell_type": "code",
   "execution_count": 40,
   "id": "e1801f19-8127-43f2-bce2-aa6ca165487e",
   "metadata": {},
   "outputs": [
    {
     "data": {
      "text/plain": [
       "0.10730070919060587"
      ]
     },
     "execution_count": 40,
     "metadata": {},
     "output_type": "execute_result"
    }
   ],
   "source": [
    "conv_norm[1].std()"
   ]
  },
  {
   "cell_type": "code",
   "execution_count": 36,
   "id": "192e851e-e105-4edf-838f-255ad8683036",
   "metadata": {},
   "outputs": [],
   "source": [
    "norm= stats.norm.pdf(x)\n",
    "conv_norm= scipy.signal.fftconvolve=(norm,norm)"
   ]
  },
  {
   "cell_type": "code",
   "execution_count": 39,
   "id": "24cf3787-f462-4d36-bddb-e87bb465e42a",
   "metadata": {},
   "outputs": [
    {
     "data": {
      "image/png": "[encoded data removed]",
      "text/plain": [
       "<Figure size 432x288 with 1 Axes>"
      ]
     },
     "metadata": {
      "needs_background": "light"
     },
     "output_type": "display_data"
    }
   ],
   "source": [
    "cx= x/2\n",
    "fig, ax = plt.subplots(1, 1)\n",
    "plt.tick_params(labelsize = 24)\n",
    "plt.xlim([-10, 10])\n",
    "ax.plot(cx,conv_norm[1],linewidth = 8,alpha = 0.7)\n",
    "plt.show()"
   ]
  },
  {
   "cell_type": "code",
   "execution_count": 23,
   "id": "4d2da25a-65c2-4c69-9c4d-d71dfc899955",
   "metadata": {},
   "outputs": [
    {
     "data": {
      "text/plain": [
       "array([7.69459863e-23, 5.68442201e-22, 4.03145816e-21, 2.74481769e-20,\n",
       "       1.79407401e-19, 1.12575195e-18, 6.78141882e-18, 3.92169602e-17,\n",
       "       2.17722239e-16, 1.16039850e-15, 5.93727315e-15, 2.91636853e-14,\n",
       "       1.37522348e-13, 6.22557774e-13, 2.70558725e-12, 1.12880502e-11,\n",
       "       4.52118024e-11, 1.73844203e-10, 6.41717835e-10, 2.27406833e-09,\n",
       "       7.73639102e-09, 2.52667171e-08, 7.92199799e-08, 2.38449349e-07,\n",
       "       6.89021948e-07, 1.91137312e-06, 5.09018302e-06, 1.30135811e-05,\n",
       "       3.19400618e-05, 7.52575687e-05, 1.70231576e-04, 3.69662637e-04,\n",
       "       7.70631042e-04, 1.54227900e-03, 2.96315857e-03, 5.46540492e-03,\n",
       "       9.67754721e-03, 1.64506763e-02, 2.68458845e-02, 4.20578610e-02,\n",
       "       6.32546052e-02, 9.13298239e-02, 1.26592680e-01, 1.68453513e-01,\n",
       "       2.15192461e-01, 2.63906165e-01, 3.10704486e-01, 3.51172916e-01,\n",
       "       3.81039507e-01, 3.96912251e-01, 3.96912251e-01, 3.81039507e-01,\n",
       "       3.51172916e-01, 3.10704486e-01, 2.63906165e-01, 2.15192461e-01,\n",
       "       1.68453513e-01, 1.26592680e-01, 9.13298239e-02, 6.32546052e-02,\n",
       "       4.20578610e-02, 2.68458845e-02, 1.64506763e-02, 9.67754721e-03,\n",
       "       5.46540492e-03, 2.96315857e-03, 1.54227900e-03, 7.70631042e-04,\n",
       "       3.69662637e-04, 1.70231576e-04, 7.52575687e-05, 3.19400618e-05,\n",
       "       1.30135811e-05, 5.09018302e-06, 1.91137312e-06, 6.89021948e-07,\n",
       "       2.38449349e-07, 7.92199799e-08, 2.52667171e-08, 7.73639102e-09,\n",
       "       2.27406833e-09, 6.41717835e-10, 1.73844203e-10, 4.52118024e-11,\n",
       "       1.12880502e-11, 2.70558725e-12, 6.22557774e-13, 1.37522348e-13,\n",
       "       2.91636853e-14, 5.93727315e-15, 1.16039850e-15, 2.17722239e-16,\n",
       "       3.92169602e-17, 6.78141882e-18, 1.12575195e-18, 1.79407401e-19,\n",
       "       2.74481769e-20, 4.03145816e-21, 5.68442201e-22, 7.69459863e-23])"
      ]
     },
     "execution_count": 23,
     "metadata": {},
     "output_type": "execute_result"
    }
   ],
   "source": [
    "conv_norm[1]"
   ]
  },
  {
   "cell_type": "code",
   "execution_count": 41,
   "id": "8075d7f2-f12c-498a-98be-4215735b9504",
   "metadata": {},
   "outputs": [
    {
     "data": {
      "text/plain": [
       "0.10730070919060587"
      ]
     },
     "execution_count": 41,
     "metadata": {},
     "output_type": "execute_result"
    }
   ],
   "source": [
    "norm.std()"
   ]
  },
  {
   "cell_type": "code",
   "execution_count": 42,
   "id": "a7a32b29-a5b0-4950-a9c0-dd4f99ebb971",
   "metadata": {},
   "outputs": [
    {
     "data": {
      "text/plain": [
       "0.10730070919060587"
      ]
     },
     "execution_count": 42,
     "metadata": {},
     "output_type": "execute_result"
    }
   ],
   "source": [
    "conv_norm[1].std()"
   ]
  },
  {
   "cell_type": "markdown",
   "id": "60a9d2ee-036e-4549-8f9f-7878e5e0482b",
   "metadata": {},
   "source": [
    "The standard deviation doesn't change after summing and averaging the gaussians so for integrating a signal over time this will be constant. "
   ]
  }
 ],
 "metadata": {
  "kernelspec": {
   "display_name": "Python 3",
   "language": "python",
   "name": "python3"
  },
  "language_info": {
   "codemirror_mode": {
    "name": "ipython",
    "version": 3
   },
   "file_extension": ".py",
   "mimetype": "text/x-python",
   "name": "python",
   "nbconvert_exporter": "python",
   "pygments_lexer": "ipython3",
   "version": "3.8.8"
  }
 },
 "nbformat": 4,
 "nbformat_minor": 5
}
